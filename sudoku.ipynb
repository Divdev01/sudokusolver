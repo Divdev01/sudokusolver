{
 "cells": [
  {
   "cell_type": "markdown",
   "metadata": {},
   "source": [
    "# Sudoku Solver\n",
    "---\n",
    "\n",
    "Sudoku is number puzzle with 9X9 grid with 9 3X3 subgrids. Some of the squares are filled with numbers.\n",
    "The objective of the puzzle is to fill all the 81 squares with numbers from 1-9 in a way that no number gets repeated in each row, column or box. \n",
    "\n",
    "The objective of this work is to design an agent that solves sudoku puzzle.\n"
   ]
  },
  {
   "cell_type": "code",
   "execution_count": 413,
   "metadata": {},
   "outputs": [
    {
     "name": "stdout",
     "output_type": "stream",
     "text": [
      "The autoreload extension is already loaded. To reload it, use:\n",
      "  %reload_ext autoreload\n"
     ]
    }
   ],
   "source": [
    "# import necessary modules \n",
    "\n",
    "from SudokuSolver import SudokuSolver \n",
    "%load_ext autoreload\n",
    "%autoreload 2\n",
    "\n",
    "squares   = str\n",
    "gridValDict = dict\n",
    "cols = '123456789'\n",
    "rows      = 'ABCDEFGHI'\n"
   ]
  },
  {
   "cell_type": "code",
   "execution_count": 414,
   "metadata": {},
   "outputs": [],
   "source": [
    "def cross(A,B) -> tuple:\n",
    "    return tuple(a+b for a in A for b in B)"
   ]
  },
  {
   "cell_type": "markdown",
   "metadata": {},
   "source": [
    "## Representation of puzzle\n",
    "---\n",
    "\n",
    "The puzzle is represented as follows ( as mentioned in Stuart Russell and Peter Norvig's 'Artificial Intelligence: A Modern Approach' book)\n",
    "\n",
    "    - 81 squares [A1', 'A2', ... 'I9']\n",
    "    - 3X3 subgrids are represented as boxes(9 boxes)\n",
    "    - units are  rows, columns and boxes(subgrids)  \n",
    "    - peers of a square represents are the squares that are present in the same row or colum or subgrid"
   ]
  },
  {
   "cell_type": "code",
   "execution_count": 415,
   "metadata": {},
   "outputs": [],
   "source": [
    "squares   = cross(rows, cols)\n",
    "#list of tuples - [('A1', 'A2', 'A3', 'B1', 'B2', 'B3', 'C1', 'C2', 'C3'),...] \n",
    "#all 3x3 boxes in puzzle - total 9\n",
    "all_boxes = [cross(rs, cs)  for rs in ('ABC','DEF','GHI') for cs in ('123','456','789')] \n",
    "#list of tuples - [('A1', 'B1', 'C1', 'D1', 'E1', 'F1', 'G1', 'H1', 'I1'),..]\n",
    "#all  rows, columns and boxes - total 27\n",
    "all_units = [cross(rows, c) for c in cols] + [cross(r, cols) for r in rows] + all_boxes\n",
    "\n",
    "\"\"\"\n",
    "dictionary holding units for each square - {'A1': (('A1',...,'I1'), ('A1',...,'A9'), ('A1',...,'C3')),\n",
    "                                            'A2': (('A2',...,'I2'), ('A1',...,'A9'), ('A1',...,'C3')),\n",
    "                                            .\n",
    "                                            .\n",
    "                                            'I9':(('A9',...,'I9'),  ('I1',...,'I9'), ('G7',...,'I9'))}\n",
    "\n",
    "Total - 81 units\n",
    "\"\"\"\n",
    "\n",
    "units     = {s: tuple(u for u in all_units if s in u) for s in squares}\n",
    "# Dictionary holding set of peers - {'A1': {'A2', 'A3',.....,I1},.....'I9':{A9,...,I8} }\n",
    "# Total 81 units\n",
    "\n",
    "peers     = {s: set().union(*units[s]) - {s} for s in squares}"
   ]
  },
  {
   "cell_type": "code",
   "execution_count": 416,
   "metadata": {},
   "outputs": [],
   "source": [
    "# Module to display the Sudoku grid\n",
    "\n",
    "def display(values):\n",
    "    \"Display these values as a 2-D grid.\"    \n",
    "\n",
    "    width = 1+max(len(values[s]) for s in squares)\n",
    "    \n",
    "    \n",
    "    line = '+'.join(['-'*(width*3)]*3)\n",
    "    for r in rows:\n",
    "        print ( ''.join(values[r+c].center(width)+('|' if c in '36' else '')\n",
    "                    for c in cols) )\n",
    "        if r in 'CF': print(line)\n",
    "    print()\n",
    "\n"
   ]
  },
  {
   "cell_type": "markdown",
   "metadata": {},
   "source": [
    "## Constraint Satisfaction Problem\n",
    "---\n",
    "Constraint Satisfaction Probelm is a mathematical problem that can be solved by finding the values of all the variables with respect to the constraints. The Constraint Satisfaction problem consists of\n",
    "\n",
    "- **Variables** - Variables are the states. In the case of Sudoku the 81 squares from A1 to I9 are variables\n",
    "\n",
    "- **Domains**  - Domains are the set of values that can be assigned to the variables. In Sudoku, domain is the values from 1-9 which are the possible values of each state\n",
    "\n",
    "- **Constraints** - Constraint is the set of restrictions applied on the problem. In sudoku, The numbers are constrained in a way that no number should be repeated in each Columns, Rows and subgrid(box)\n",
    "\n",
    "\n",
    "Sudoku is considered as a Constrain satisfaction problem with partial assignment  since few of the grids are already filled and the remaining squares should be filled\n",
    "\n",
    "There are different types of constraints. \n",
    "* **Unary Constraint** - Constraint on a single variable\n",
    "* **Binary Constraint** - Constraint is related with two variables\n",
    "* **Global Constraint** - This contains arbitrary number of variables. Alldiff constraint is a global constraint which means all the variables are different. The contraint in sudoku problem is alldiff constraint since all the variables in each unit(row, column, box) should be different.\n",
    "\n",
    "  "
   ]
  },
  {
   "cell_type": "markdown",
   "metadata": {},
   "source": [
    "\n",
    "## Constraint Propagation\n",
    "Constraint propagation is an inference that can be used to reduce the domain values for the variable, that will inturn reduces the domain value of another variable and so on.\n",
    "\n",
    "In the sudoku solver module, I have implemented three constraint propagation methods and backtrackking for searching the required combination.\n",
    "Simple naive backtracking alone will be able to find the solution  for the sudoku puzzles. But the drawback would be the time complexity. It will search each and every combination from scratch. That would be n*9!*(81-n)! where n is the number of digits filled already filled.\n",
    "Inorder to fasten the process, The constraint propagation will be helpful to reduce the domain values for some variables by appying some strategies. I applied the following strategies and compared its results.\n",
    "\n",
    "- **Elimination Strategy**\n",
    "    - If there is a value present in one of the squares (variable), then eliminate the value from all its peer's (ie squares belong to the same row/column/box) domains.\n",
    "\n",
    "\n",
    "- **Single posssibility strategy**\n",
    "    - In this strategy, for a square, if there is only one possible number then assign the number in that square(remove all the other values in the variables domain).\n",
    "    \n",
    "\n",
    "- **Naked pairs rule**\n",
    "    - This is a little complicated strategy that will be helpful for solving sone hard puzzles. When two squares in the same unit(two/column/box) has two domain values and the same domain values, then those two values can occur in only those two squares. So those two values can be removed from domain of all the other squares that are peers.\n"
   ]
  },
  {
   "cell_type": "code",
   "execution_count": 421,
   "metadata": {},
   "outputs": [
    {
     "name": "stdout",
     "output_type": "stream",
     "text": [
      "------------------------------------------------------------\n",
      "\tPuzzle after contraint propagation\n",
      "------------------------------------------------------------\n",
      " 1269  249    5   |  3   24689 24678 |14689 14679  1478 \n",
      "  8    349   169  | 4679   5    467  | 1469   2    1347 \n",
      " 2369   7    269  | 4689   1    2468 |  5    469   348  \n",
      "------------------+------------------+------------------\n",
      "  4    289  26789 | 1689  689    5   |  3    179   127  \n",
      " 259    1    289  | 489    7     3   | 249   459    6   \n",
      " 5679   59    3   |  2    469   146  | 149    8    1457 \n",
      "------------------+------------------+------------------\n",
      " 1237   6    1278 |  5    2348 12478 | 1248   14    9   \n",
      "12579  2589   4   | 1678  268  12678 | 1268   3    1258 \n",
      " 1235  2358  128  | 1468 23468   9   |  7    1456 12458 \n",
      "\n"
     ]
    }
   ],
   "source": [
    "# Example sudoku solved - one easy and one hard\n",
    "\n",
    "grid1 = '..3.2.6..9..3.5..1..18.64....81.29..7.......8..67.82....26.95..8..2.3..9..5.1.3..'\n",
    "grid2 = '..53.....8......2..7..1.5..4....53...1..7...6..32...8..6.5....9..4....3......97..'\n",
    "\n",
    "solver = SudokuSolver(squares, all_units, peers)\n",
    "constraint = 2\n",
    "gridValDict = solver.gridtoValues(grid2)\n",
    "consProp = solver.reduceGridVal(gridValDict, constraint)\n",
    "print('-'*60)\n",
    "print(\"\\tPuzzle after contraint propagation\")\n",
    "print('-'*60)\n",
    "display(consProp)\n"
   ]
  },
  {
   "cell_type": "markdown",
   "metadata": {},
   "source": [
    "After the constraint propagation most of the easy puzzles got solved. But for the hard problem again had to do backtracking.\n",
    "# Backtracking Search\n",
    "Back tracking search uses a depth first search to try all values till the bottom and then backtrack if these is any inconsistency (ie no value can be assigned to the variable to satisfy the constraint)\n",
    "\n",
    "when selecting an unassigned variable in back tracking value ordering and variable ordering should be considered. In this problem, I used minimum remaining value heuristic and also compared its peformance with static variable ordering and random ordering. For value ordering I just used all the digits in order.\n",
    "<br>\n",
    "Then I did forward checking which allows to eliminate all the domains that are inconsistent with the constraint, every time we assign a value to the variable in bactracking process."
   ]
  },
  {
   "cell_type": "code",
   "execution_count": 420,
   "metadata": {},
   "outputs": [
    {
     "name": "stdout",
     "output_type": "stream",
     "text": [
      "\tPuzzle after backpropagation\n",
      "------------------------------------------------------------\n",
      "1 4 5 |3 2 7 |6 9 8 \n",
      "8 3 9 |6 5 4 |1 2 7 \n",
      "6 7 2 |9 1 8 |5 4 3 \n",
      "------+------+------\n",
      "4 9 6 |1 8 5 |3 7 2 \n",
      "2 1 8 |4 7 3 |9 5 6 \n",
      "7 5 3 |2 9 6 |4 8 1 \n",
      "------+------+------\n",
      "3 6 7 |5 4 2 |8 1 9 \n",
      "9 8 4 |7 6 1 |2 3 5 \n",
      "5 2 1 |8 3 9 |7 6 4 \n",
      "\n"
     ]
    }
   ],
   "source": [
    "print(\"\\tPuzzle after backpropagation\")\n",
    "print('-'*60)\n",
    "solution = solver.backtrack(consProp, constraint,'static')\n",
    "display(solution)"
   ]
  },
  {
   "cell_type": "code",
   "execution_count": 427,
   "metadata": {},
   "outputs": [
    {
     "name": "stdout",
     "output_type": "stream",
     "text": [
      "123456789 123456789     5     |    3     123456789 123456789 |123456789 123456789 123456789 \n",
      "    8     123456789 123456789 |123456789 123456789 123456789 |123456789     2     123456789 \n",
      "123456789     7     123456789 |123456789     1     123456789 |    5     123456789 123456789 \n",
      "------------------------------+------------------------------+------------------------------\n",
      "    4     123456789 123456789 |123456789 123456789     5     |    3     123456789 123456789 \n",
      "123456789     1     123456789 |123456789     7     123456789 |123456789 123456789     6     \n",
      "123456789 123456789     3     |    2     123456789 123456789 |123456789     8     123456789 \n",
      "------------------------------+------------------------------+------------------------------\n",
      "123456789     6     123456789 |    5     123456789 123456789 |123456789 123456789     9     \n",
      "123456789 123456789     4     |123456789 123456789 123456789 |123456789     3     123456789 \n",
      "123456789 123456789 123456789 |123456789 123456789     9     |    7     123456789 123456789 \n",
      "\n"
     ]
    }
   ],
   "source": [
    "#An easy example solved by the sudoku solver\n",
    "display(solver.gridtoValues(grid2))"
   ]
  },
  {
   "cell_type": "code",
   "execution_count": 428,
   "metadata": {},
   "outputs": [
    {
     "name": "stdout",
     "output_type": "stream",
     "text": [
      "4 8 3 |9 2 1 |6 5 7 \n",
      "9 6 7 |3 4 5 |8 2 1 \n",
      "2 5 1 |8 7 6 |4 9 3 \n",
      "------+------+------\n",
      "5 4 8 |1 3 2 |9 7 6 \n",
      "7 2 9 |5 6 4 |1 3 8 \n",
      "1 3 6 |7 9 8 |2 4 5 \n",
      "------+------+------\n",
      "3 7 2 |6 8 9 |5 1 4 \n",
      "8 1 4 |2 5 3 |7 6 9 \n",
      "6 9 5 |4 1 7 |3 8 2 \n",
      "\n"
     ]
    }
   ],
   "source": [
    "display( solver.solvePuzzle(grid1, 3,'static') )"
   ]
  },
  {
   "cell_type": "markdown",
   "metadata": {},
   "source": [
    "# Performance comparison for the solver with various combinations of methods\n",
    "---\n"
   ]
  },
  {
   "cell_type": "markdown",
   "metadata": {},
   "source": [
    "For performance comparison I used the easy, hard and hardest puzzle from Peter Norvig's website.\n",
    "There are 50 easy sudokus and  95 hard and 11 hardest sudokus.\n",
    "<br>\n",
    "I used Elimination and single possibility strategy and compared results for easy, hard and hardest puzzles.\n",
    "Then I used Elimination, single possibility strategy and naked twin rule for all the sudoku puzzles.\n"
   ]
  },
  {
   "cell_type": "code",
   "execution_count": 405,
   "metadata": {},
   "outputs": [],
   "source": [
    "import time"
   ]
  },
  {
   "cell_type": "code",
   "execution_count": 423,
   "metadata": {},
   "outputs": [],
   "source": [
    "# Module to calculate time taken to solve all the puzzles in ths given file\n",
    "def timetaken(filename, constraint, var_order):\n",
    "    file1 = open(filename, 'r')\n",
    "    Lines = file1.readlines()\n",
    "    start = time.time()\n",
    "    count = 0\n",
    "    for line in Lines:\n",
    "        count = count+1\n",
    "        solver.solvePuzzle(line, constraint,var_order)\n",
    "        \n",
    "        \n",
    "    end = time.time()\n",
    "    avgTime = (end-start)/count\n",
    "    return avgTime\n",
    "    "
   ]
  },
  {
   "cell_type": "markdown",
   "metadata": {},
   "source": [
    "From the above results, Easy puzzles are solved very fast. And When comparing the strategies, Easy and hard puzzles got solved faster with elimination and single possibility strategy. But the hardest puzzles were solved when naked twin strategy is introduced. "
   ]
  },
  {
   "cell_type": "code",
   "execution_count": 424,
   "metadata": {},
   "outputs": [
    {
     "name": "stdout",
     "output_type": "stream",
     "text": [
      "----------------------------------------------------------------------------------------------------\n",
      "Contraint prop                      variable ordering         processing time in sec   \n",
      "----------------------------------------------------------------------------------------------------\n",
      "Easy50.txt\n",
      "----------\n",
      "elim & single possib                min                       0.006                     \n",
      "elim & single possib                rand                      0.0077                    \n",
      "elim & single possib                static                    0.0048                    \n",
      "elim, s_pos, naked pair             min                       0.0066                    \n",
      "elim, s_pos, naked pair             rand                      0.0079                    \n",
      "elim, s_pos, naked pair             static                    0.0092                    \n",
      "elim, s_pos, n_pair, hidden pair    min                       0.0106                    \n",
      "elim, s_pos, n_pair, hidden pair    rand                      0.0092                    \n",
      "elim, s_pos, n_pair, hidden pair    static                    0.0124                    \n",
      "Hard.txt\n",
      "----------\n",
      "elim & single possib                min                       1.3969                    \n",
      "elim & single possib                rand                      0.6972                    \n",
      "elim & single possib                static                    0.8736                    \n",
      "elim, s_pos, naked pair             min                       0.6638                    \n",
      "elim, s_pos, naked pair             rand                      0.5559                    \n",
      "elim, s_pos, naked pair             static                    0.4886                    \n",
      "elim, s_pos, n_pair, hidden pair    min                       0.726                     \n",
      "elim, s_pos, n_pair, hidden pair    rand                      0.2609                    \n",
      "elim, s_pos, n_pair, hidden pair    static                    0.2719                    \n",
      "Hardest.txt\n",
      "----------\n",
      "elim & single possib                min                       0.1909                    \n",
      "elim & single possib                rand                      0.0498                    \n",
      "elim & single possib                static                    0.0943                    \n",
      "elim, s_pos, naked pair             min                       0.2298                    \n",
      "elim, s_pos, naked pair             rand                      0.1246                    \n",
      "elim, s_pos, naked pair             static                    0.0867                    \n",
      "elim, s_pos, n_pair, hidden pair    min                       0.2982                    \n",
      "elim, s_pos, n_pair, hidden pair    rand                      0.2358                    \n",
      "elim, s_pos, n_pair, hidden pair    static                    0.16                      \n"
     ]
    }
   ],
   "source": [
    "constraint = [2,3,4]\n",
    "var_order = ['min', 'rand', 'static']\n",
    "print('-'*100)\n",
    "print (\"{:<35} {:<25} {:<25}\".format(\"Contraint prop\", \"variable ordering\",  \"processing time in sec\"))\n",
    "print('-'*100)\n",
    "# nodes = 0\n",
    "files = ['Easy50.txt', 'Hard.txt', 'Hardest.txt']\n",
    "for file in files:\n",
    "    print(file)\n",
    "    print(\"-\"*10)\n",
    "    for con in constraint:\n",
    "        for v_or in var_order:\n",
    "            timeTaken = timetaken(file,con, v_or)\n",
    "            if(con == 2):\n",
    "                con_txt = 'elim & single possib'\n",
    "            elif(con == 3):\n",
    "                con_txt = 'elim, s_pos, naked pair'\n",
    "            elif(con==4):\n",
    "                con_txt = 'elim, s_pos, n_pair, hidden pair'\n",
    "            print (\"{:<35} {:<25} {:<25} \".format(con_txt, v_or, round(timeTaken,4)))"
   ]
  },
  {
   "cell_type": "markdown",
   "metadata": {},
   "source": [
    "**Hardest Puzzle**<br>\n",
    "\n",
    "Peter Norvig mentioned about Inkala's 2 hardest puzzles and the performance he acheived for that puzzle is 0.01S for both. My work is able to acheive 0.01 in one of the hardest puzzle but the other one takes 0.1 seconds, which still needs improvement."
   ]
  },
  {
   "cell_type": "code",
   "execution_count": 425,
   "metadata": {},
   "outputs": [],
   "source": [
    "in_grid1 = '85...24..72......9..4.........1.7..23.5...9...4...........8..7..17..........36.4.'\n",
    "in_grid2 = '..53.....8......2..7..1.5..4....53...1..7...6..32...8..6.5....9..4....3......97..'\n",
    "\n",
    "in_grid = [in_grid1, in_grid2]\n",
    "def ptime(in_grid,constraint, var_order):\n",
    "    start = time.time()\n",
    "    solver.solvePuzzle(in_grid, constraint,var_order)\n",
    "    end = time.time()\n",
    "    return (end-start)"
   ]
  },
  {
   "cell_type": "code",
   "execution_count": 426,
   "metadata": {},
   "outputs": [
    {
     "name": "stdout",
     "output_type": "stream",
     "text": [
      "----------------------------------------------------------------------------------------------------\n",
      "Contraint prop                      variable ordering         processing time in sec   \n",
      "----------------------------------------------------------------------------------------------------\n",
      "85...24..72......9..4.........1.7..23.5...9...4...........8..7..17..........36.4.\n",
      "elim & single possib                min                       0.032                    \n",
      "elim & single possib                rand                      0.0229                   \n",
      "elim & single possib                static                    0.0787                   \n",
      "elim, s_pos, naked pair             min                       0.1203                   \n",
      "elim, s_pos, naked pair             rand                      0.04                     \n",
      "elim, s_pos, naked pair             static                    0.064                    \n",
      "elim, s_pos, n_pair, hidden pair    min                       0.024                    \n",
      "elim, s_pos, n_pair, hidden pair    rand                      0.024                    \n",
      "elim, s_pos, n_pair, hidden pair    static                    0.019                    \n",
      "..53.....8......2..7..1.5..4....53...1..7...6..32...8..6.5....9..4....3......97..\n",
      "elim & single possib                min                       0.4261                   \n",
      "elim & single possib                rand                      0.0699                   \n",
      "elim & single possib                static                    0.1308                   \n",
      "elim, s_pos, naked pair             min                       0.3829                   \n",
      "elim, s_pos, naked pair             rand                      0.5082                   \n",
      "elim, s_pos, naked pair             static                    0.1591                   \n",
      "elim, s_pos, n_pair, hidden pair    min                       0.2848                   \n",
      "elim, s_pos, n_pair, hidden pair    rand                      0.2012                   \n",
      "elim, s_pos, n_pair, hidden pair    static                    0.3042                   \n"
     ]
    }
   ],
   "source": [
    "print('-'*100)\n",
    "print (\"{:<35} {:<25} {:<25}\".format(\"Contraint prop\", \"variable ordering\",  \"processing time in sec\"))\n",
    "print('-'*100)\n",
    "for grid in in_grid:\n",
    "    print(grid)\n",
    "    for con in constraint:\n",
    "        for v_or in var_order:\n",
    "            timeTaken = ptime(grid, con, v_or)\n",
    "            if(con == 2):\n",
    "                con_txt = 'elim & single possib'\n",
    "            elif(con == 3):\n",
    "                con_txt = 'elim, s_pos, naked pair'\n",
    "            elif(con==4):\n",
    "                con_txt = 'elim, s_pos, n_pair, hidden pair'\n",
    "            print (\"{:<35} {:<25} {:<25}\".format(con_txt, v_or, round(timeTaken,4)))\n"
   ]
  },
  {
   "cell_type": "markdown",
   "metadata": {},
   "source": [
    "# Results and discussion\n",
    "\n",
    "From the comparisons above, the following interpretations are made.\n",
    "1. Elimination, single possibility with static variable ordering in back tracking is best performing in easy sudokus\n",
    "\n",
    "2. Even though adding naked pair has the same performance, there is no significant improvement for adding another complex strategy. This may be because most of the easy problems doesnot involve complex strategies like hidden pair, naked pair, etc.\n",
    "\n",
    "3. But for hard puzzles, 0.24 seconds is acheived when all the 4 strategies are used with static variable ordering. This is a pretty good improvement compared to 0.7 acheive by the basic strategies.\n",
    "\n",
    "4. Hardest puzzles were able to acheive 0.0879 second without hidder pair itself.\n",
    "\n",
    "5. While comparing Inkala's hardest puzzle with these combinations of algorithms, the best results I got were 0.01 and 0.06 both are acheived by adding naked pair strategy with the random variable ordering.\n",
    "\n",
    "8. This clearly shows that, for hard puzzles, more complex strategies will save more time."
   ]
  },
  {
   "cell_type": "markdown",
   "metadata": {},
   "source": [
    "**Future work**\n",
    " I want to add few more complex strategies for constraint propagation and see if i can reduce the processing time any further for the hardest puzzles.\n"
   ]
  },
  {
   "cell_type": "markdown",
   "metadata": {},
   "source": [
    "# References\n",
    "\n",
    "1. https://en.wikipedia.org/wiki/Sudoku\n",
    "\n",
    "2. Artificial Intelligence: A mordern approach by Stuart Russell and Peter Norvig\n",
    "\n",
    "3. https://norvig.com/sudoku.html\n",
    "\n",
    "4. https://www.sudokudragon.com/sudokustrategy.htm\n",
    "\n",
    "\n",
    "\n"
   ]
  }
 ],
 "metadata": {
  "interpreter": {
   "hash": "5c1863610df8831bbe662ad2819e84dc067b53a1025905e846614c3b775b21f5"
  },
  "kernelspec": {
   "display_name": "Python 3.8.3 ('base')",
   "language": "python",
   "name": "python3"
  },
  "language_info": {
   "codemirror_mode": {
    "name": "ipython",
    "version": 3
   },
   "file_extension": ".py",
   "mimetype": "text/x-python",
   "name": "python",
   "nbconvert_exporter": "python",
   "pygments_lexer": "ipython3",
   "version": "3.8.3"
  },
  "orig_nbformat": 4
 },
 "nbformat": 4,
 "nbformat_minor": 2
}
