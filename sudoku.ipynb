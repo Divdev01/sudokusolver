{
 "cells": [
  {
   "cell_type": "markdown",
   "metadata": {},
   "source": [
    "# Sudoku Solver\n",
    "---\n",
    "\n",
    "Sudoku is number puzzle with 9X9 grid with 9 3X3 subgrids. Some of the squares are filled with numbers.\n",
    "The objective of the puzzle is to fill all the 81 squares with numbers from 1-9 in a way that no number gets repeated in each row, column or box. \n"
   ]
  },
  {
   "cell_type": "code",
   "execution_count": 1,
   "metadata": {},
   "outputs": [],
   "source": [
    "#\n",
    "\n",
    "from SudokuSolver import SudokuSolver \n",
    "\n",
    "squares   = str\n",
    "gridValDict = dict\n",
    "cols = '123456789'\n",
    "rows      = 'ABCDEFGHI'\n",
    "#cols      = digits"
   ]
  },
  {
   "cell_type": "code",
   "execution_count": 2,
   "metadata": {},
   "outputs": [],
   "source": [
    "def cross(A,B) -> tuple:\n",
    "    return tuple(a+b for a in A for b in B)"
   ]
  },
  {
   "cell_type": "markdown",
   "metadata": {},
   "source": [
    "## Representation of puzzle\n",
    "---\n",
    "\n",
    "The puzzle is represented by as mentioned in Stuart Russell and Peter Norvig's 'Artificial Intelligence: A Modern Approach' book.\n",
    "\n",
    "    - 81 squares [A1', 'A2', ... 'I9']\n",
    "    - 3X3 subgrids are represented as boxes \n",
    "    - units are  rows, columns and boxes(subgrids)  \n",
    "    - peers of a square represents are the squares that are present in the same row or colum or subgrid"
   ]
  },
  {
   "cell_type": "code",
   "execution_count": 3,
   "metadata": {},
   "outputs": [],
   "source": [
    "squares   = cross(rows, cols)\n",
    "#list of tuples - [('A1', 'A2', 'A3', 'B1', 'B2', 'B3', 'C1', 'C2', 'C3'),...] \n",
    "#all 3x3 boxes in puzzle - total 9\n",
    "all_boxes = [cross(rs, cs)  for rs in ('ABC','DEF','GHI') for cs in ('123','456','789')] \n",
    "#list of tuples - [('A1', 'B1', 'C1', 'D1', 'E1', 'F1', 'G1', 'H1', 'I1'),..]\n",
    "#all  rows, columns and boxes - total 27\n",
    "all_units = [cross(rows, c) for c in cols] + [cross(r, cols) for r in rows] + all_boxes\n",
    "\n",
    "\"\"\"\n",
    "dictionary holding units for each square - {'A1': (('A1',...,'I1'), ('A1',...,'A9'), ('A1',...,'C3')),\n",
    "                                            'A2': (('A2',...,'I2'), ('A1',...,'A9'), ('A1',...,'C3')),\n",
    "                                            .\n",
    "                                            .\n",
    "                                            'I9':(('A9',...,'I9'),  ('I1',...,'I9'), ('G7',...,'I9'))}\n",
    "\n",
    "Total - 81 units\n",
    "\"\"\"\n",
    "\n",
    "units     = {s: tuple(u for u in all_units if s in u) for s in squares}\n",
    "# Dictionary holding set of peers - {'A1': {'A2', 'A3',.....,I1},.....'I9':{A9,...,I8} }\n",
    "# Total 81 units\n",
    "\n",
    "peers     = {s: set().union(*units[s]) - {s} for s in squares}"
   ]
  },
  {
   "cell_type": "code",
   "execution_count": 4,
   "metadata": {},
   "outputs": [],
   "source": [
    "# Module to display the Sudoku grid\n",
    "\n",
    "def display(values):\n",
    "    \"Display these values as a 2-D grid.\"\n",
    "    # rows      = 'ABCDEFGHI'\n",
    "    # cols      = '123456789'\n",
    "\n",
    "    width = 1+max(len(values[s]) for s in squares)\n",
    "    \n",
    "    \n",
    "    line = '+'.join(['-'*(width*3)]*3)\n",
    "    for r in rows:\n",
    "        print ( ''.join(values[r+c].center(width)+('|' if c in '36' else '')\n",
    "                    for c in cols) )\n",
    "        if r in 'CF': print(line)\n",
    "    print()\n",
    "\n"
   ]
  },
  {
   "cell_type": "markdown",
   "metadata": {},
   "source": [
    "## Constraint Satisfaction Problem\n",
    "---\n",
    "Constraint Satisfaction Probelm is a mathematical problem that can be solved by finding the values of all the variables with respect to the constraints. The Constraint Satisfaction problem consists of\n",
    "\n",
    "- **Variables** - Variables are the states. In the case of Sudoku the 81 squares from A1 to I9 are variables\n",
    "- **Domains**  - Domains are the set of values that can be assigned to the variables. In Sudoku, domain is the values from 1-9 which are the possible values of each state\n",
    "- **Constraints** - Constraint is the set of restrictions applied on the problem. In sudoku, The numbers are constrained in a way that no number should be repeated in each Columns, Rows and subgrid(box)\n",
    "\n",
    "\n",
    "Sudoku is considered as a partial assignment problem since few of the grids are already filled.\n",
    "\n",
    "There are different types of constraints. \n",
    "* **Unary Constraint** - Constraint on a single variable\n",
    "* **Binary Constraint** - Constraint is related with two variables\n",
    "* **Global Constraint** - This contains arbitrary number of variables. Alldiff constraint is a global constraint which means all the variables are different. The contraint in sudoku problem is alldiff constraint since all the variables in each unit(row, column, box) should be different.\n",
    "\n",
    "\n",
    "\n",
    "\n",
    "    "
   ]
  },
  {
   "cell_type": "code",
   "execution_count": 5,
   "metadata": {},
   "outputs": [
    {
     "name": "stdout",
     "output_type": "stream",
     "text": [
      "------------------------------------------------------------\n",
      "\tPuzzle after contraint propagation\n",
      "------------------------------------------------------------\n",
      "4 8 3 |9 2 1 |6 5 7 \n",
      "9 6 7 |3 4 5 |8 2 1 \n",
      "2 5 1 |8 7 6 |4 9 3 \n",
      "------+------+------\n",
      "5 4 8 |1 3 2 |9 7 6 \n",
      "7 2 9 |5 6 4 |1 3 8 \n",
      "1 3 6 |7 9 8 |2 4 5 \n",
      "------+------+------\n",
      "3 7 2 |6 8 9 |5 1 4 \n",
      "8 1 4 |2 5 3 |7 6 9 \n",
      "6 9 5 |4 1 7 |3 8 2 \n",
      "\n",
      "------------------------------------------------------------\n",
      "\tPuzzle after backpropagation\n",
      "------------------------------------------------------------\n",
      "4 8 3 |9 2 1 |6 5 7 \n",
      "9 6 7 |3 4 5 |8 2 1 \n",
      "2 5 1 |8 7 6 |4 9 3 \n",
      "------+------+------\n",
      "5 4 8 |1 3 2 |9 7 6 \n",
      "7 2 9 |5 6 4 |1 3 8 \n",
      "1 3 6 |7 9 8 |2 4 5 \n",
      "------+------+------\n",
      "3 7 2 |6 8 9 |5 1 4 \n",
      "8 1 4 |2 5 3 |7 6 9 \n",
      "6 9 5 |4 1 7 |3 8 2 \n",
      "\n"
     ]
    }
   ],
   "source": [
    "# Example sudoku solved - one easy and one hard\n",
    "\n",
    "grid1 = '..3.2.6..9..3.5..1..18.64....81.29..7.......8..67.82....26.95..8..2.3..9..5.1.3..'\n",
    "grid2 = '..53.....8......2..7..1.5..4....53...1..7...6..32...8..6.5....9..4....3......97..'\n",
    "\n",
    "solver = SudokuSolver(squares, all_units, peers)\n",
    "constraint = 3\n",
    "gridValDict = solver.gridtoValues(grid1)\n",
    "consProp = solver.reduceGridVal(gridValDict, constraint)\n",
    "print('-'*60)\n",
    "print(\"\\tPuzzle after contraint propagation\")\n",
    "print('-'*60)\n",
    "display(consProp)\n",
    "print('-'*60)\n",
    "print(\"\\tPuzzle after backpropagation\")\n",
    "print('-'*60)\n",
    "solution = solver.backtrack(consProp, constraint)\n",
    "display(solution)\n",
    "\n",
    "# solution = solver.solvePuzzle(grid)\n",
    "# display(solution)"
   ]
  },
  {
   "cell_type": "markdown",
   "metadata": {},
   "source": [
    "In the above examples, the easiest puzzle is solved by the constraint propagation itself. But the hard one is not solve with constraint propagation alone. So backtracking is done to search the solution.\n",
    "\n",
    "###Constraint Propagation\n",
    "Constraint propagation is an inference that can be used to reduce the domain values for the variable, that will inturn reduce the domain value of another variable and so on.\n",
    "\n",
    "In the sudoku solver module, I have implemented three constraint propagation methods and backtrackking for searching the required combination.\n",
    "Simple naive backtracking alone will be able to find the solution  for the sudoku puzzles. But the drawback ther ewould be the time complexity. It will search each and every combination from scratch. That would be n*9!*(81-n)! where n is the number of digits filled already filled.\n",
    "Inorder to fasten the process, The constraint propagation will be helpful to reduce the domain values for some variables by appying some strategies. I applied the following strategies and compared its results.\n",
    "\n",
    "- **Elimination Strategy**\n",
    "    - If there is a value present in one of the squares (variable), then eliminate the value from all its peer's (ie squares belong to the same row/column/box) domains.\n",
    "\n",
    "\n",
    "- **Single posssibility strategy**\n",
    "    - In this strategy, for a square, if there is only one possible number then assign the number in that square(remove all the other values in the variables domain).\n",
    "    \n",
    "\n",
    "- **Naked twins rule**\n",
    "    - This is a little complicated strategy that will be helpful for solving sone hard puzzles. When two squares in the same unit(two/column/box) has two domain values and the same domain values, then those two values can occur in only those two squares. So those two values can be removed from domain of all the other squares that are peers.\n"
   ]
  },
  {
   "cell_type": "markdown",
   "metadata": {},
   "source": [
    "After the constaint propagation most of the easy puzzles got solved. But for the hard problem again had to do backtracking.\n",
    "# Backtracking Search\n",
    "Back tracking search uses a depth first search to try all values till the bottom and then backtrack if these is any inconsistency (ie no value can be assigned to the variable to satisfy the constraint)\n",
    "\n"
   ]
  },
  {
   "cell_type": "markdown",
   "metadata": {},
   "source": [
    "# Performance comparison for the solver with various combinations of methods\n",
    "---\n"
   ]
  },
  {
   "cell_type": "code",
   "execution_count": 6,
   "metadata": {},
   "outputs": [],
   "source": [
    "import time"
   ]
  },
  {
   "cell_type": "code",
   "execution_count": 7,
   "metadata": {},
   "outputs": [],
   "source": [
    "# Module to calculate time taken to solve all the puzzles in ths given file\n",
    "def timetaken(filename, constraint):\n",
    "    file1 = open(filename, 'r')\n",
    "    Lines = file1.readlines()\n",
    "    start = time.time()\n",
    "    count = 0\n",
    "    for line in Lines:\n",
    "        count = count+1\n",
    "        solver.solvePuzzle(line, constraint)\n",
    "        \n",
    "    end = time.time()\n",
    "    avgTime = (end-start)/count\n",
    "    return avgTime\n",
    "    # print(f\"The time of execution grids in  {filename} : {end-start}\")\n",
    "    # print(f\"Average execution time grids in  filename {filename}: {(end-start)/count }\")\n"
   ]
  },
  {
   "cell_type": "code",
   "execution_count": 8,
   "metadata": {},
   "outputs": [],
   "source": [
    "# Generates table give dictionary containing filename and Average execution time\n",
    "\n",
    "def generateTable(execTime):   \n",
    "    # Print the names of the columns.\n",
    "    print (\"{:<15} {:<15}\".format('Filename','Average execution time'))\n",
    "    print (\"{:<35} \".format('-'*35))\n",
    "    # print each data item.\n",
    "    for key, value in execTime.items():\n",
    "        print (\"{:<15} {:<15}\".format(key,value))"
   ]
  },
  {
   "cell_type": "code",
   "execution_count": 10,
   "metadata": {},
   "outputs": [],
   "source": [
    "def procTime(constraint):\n",
    "    execTime = {}\n",
    "    files = ['Easy50.txt', 'Hard.txt', 'Hardest.txt']\n",
    "    for file in files:\n",
    "        execTime[file] = timetaken(file,constraint)\n",
    "\n",
    "    generateTable(execTime)  \n",
    "\n"
   ]
  },
  {
   "cell_type": "code",
   "execution_count": 11,
   "metadata": {},
   "outputs": [
    {
     "name": "stdout",
     "output_type": "stream",
     "text": [
      "Filename        Average execution time\n",
      "----------------------------------- \n",
      "Easy50.txt      0.006803736686706543\n",
      "Hard.txt        0.7059818518789192\n",
      "Hardest.txt     0.20066779310053046\n"
     ]
    }
   ],
   "source": [
    "#Processing time calculated when using all 3 constraints\n",
    "procTime(3)"
   ]
  },
  {
   "cell_type": "code",
   "execution_count": 12,
   "metadata": {},
   "outputs": [
    {
     "name": "stdout",
     "output_type": "stream",
     "text": [
      "Filename        Average execution time\n",
      "----------------------------------- \n",
      "Easy50.txt      0.007482290267944336\n",
      "Hard.txt        1.4315458046762566\n",
      "Hardest.txt     0.1999732797796076\n"
     ]
    }
   ],
   "source": [
    "#Processing time calculated when using 2 constraints\n",
    "procTime(2)"
   ]
  },
  {
   "cell_type": "code",
   "execution_count": null,
   "metadata": {},
   "outputs": [],
   "source": [
    "#Processing time calculated when using 1 constraint\n",
    "procTime(1)"
   ]
  },
  {
   "cell_type": "code",
   "execution_count": null,
   "metadata": {},
   "outputs": [],
   "source": []
  },
  {
   "cell_type": "code",
   "execution_count": 12,
   "metadata": {},
   "outputs": [
    {
     "name": "stdout",
     "output_type": "stream",
     "text": [
      "4 8 3 |9 2 1 |6 5 7 \n",
      "9 6 7 |3 4 5 |8 2 1 \n",
      "2 5 1 |8 7 6 |4 9 3 \n",
      "------+------+------\n",
      "5 4 8 |1 3 2 |9 7 6 \n",
      "7 2 9 |5 6 4 |1 3 8 \n",
      "1 3 6 |7 9 8 |2 4 5 \n",
      "------+------+------\n",
      "3 7 2 |6 8 9 |5 1 4 \n",
      "8 1 4 |2 5 3 |7 6 9 \n",
      "6 9 5 |4 1 7 |3 8 2 \n",
      "\n"
     ]
    }
   ],
   "source": [
    "solver = SudokuSolver(squares, all_units, peers)\n",
    "gridValDict = solver.gridtoValues(grid1)\n",
    "constraint = 2\n",
    "display(solver.solvePuzzle(gridValDict, constraint))\n",
    "#print(solver.backtrack_counter)"
   ]
  },
  {
   "cell_type": "code",
   "execution_count": null,
   "metadata": {},
   "outputs": [],
   "source": []
  },
  {
   "cell_type": "code",
   "execution_count": null,
   "metadata": {},
   "outputs": [],
   "source": []
  },
  {
   "cell_type": "code",
   "execution_count": null,
   "metadata": {},
   "outputs": [],
   "source": []
  },
  {
   "cell_type": "code",
   "execution_count": null,
   "metadata": {},
   "outputs": [],
   "source": []
  },
  {
   "cell_type": "code",
   "execution_count": null,
   "metadata": {},
   "outputs": [],
   "source": []
  },
  {
   "cell_type": "code",
   "execution_count": 100,
   "metadata": {},
   "outputs": [
    {
     "data": {
      "text/plain": [
       "{'Easy50.txt': (0.36340928077697754, 0.007268185615539551),\n",
       " 'Hard.txt': (68.83200240135193, 0.7245473936984413),\n",
       " 'Hardest.txt': (2.440561532974243, 0.22186923027038574)}"
      ]
     },
     "execution_count": 100,
     "metadata": {},
     "output_type": "execute_result"
    }
   ],
   "source": [
    "execTime"
   ]
  },
  {
   "cell_type": "code",
   "execution_count": 58,
   "metadata": {},
   "outputs": [
    {
     "name": "stdout",
     "output_type": "stream",
     "text": [
      "The time of execution grids in  Hard.txt : 59.24965763092041\n",
      "Average execution time grids in  filename Hard.txt: 0.6236806066412675\n"
     ]
    }
   ],
   "source": [
    "timetaken('Hard.txt')"
   ]
  },
  {
   "cell_type": "code",
   "execution_count": 71,
   "metadata": {},
   "outputs": [
    {
     "data": {
      "text/plain": [
       "0.3391704559326172"
      ]
     },
     "execution_count": 71,
     "metadata": {},
     "output_type": "execute_result"
    }
   ],
   "source": [
    "timetaken('Easy50.txt')"
   ]
  },
  {
   "cell_type": "code",
   "execution_count": 60,
   "metadata": {},
   "outputs": [
    {
     "name": "stdout",
     "output_type": "stream",
     "text": [
      "The time of execution grids in  Hardest.txt : 2.1409449577331543\n",
      "Average execution time grids in  filename Hardest.txt: 0.19463135979392313\n"
     ]
    }
   ],
   "source": [
    "timetaken('Hardest.txt')"
   ]
  },
  {
   "cell_type": "code",
   "execution_count": 47,
   "metadata": {},
   "outputs": [
    {
     "name": "stdout",
     "output_type": "stream",
     "text": [
      "..3.2.6..9..3.5..1..18.64....81.29..7.......8..67.82....26.95..8..2.3..9..5.1.3..\n",
      "\n",
      "2...8.3...6..7..84.3.5..2.9...1.54.8.........4.27.6...3.1..7.4.72..4..6...4.1...3\n",
      "\n",
      "......9.7...42.18....7.5.261..9.4....5.....4....5.7..992.1.8....34.59...5.7......\n",
      "\n",
      ".3..5..4...8.1.5..46.....12.7.5.2.8....6.3....4.1.9.3.25.....98..1.2.6...8..6..2.\n",
      "\n",
      ".2.81.74.7....31...9...28.5..9.4..874..2.8..316..3.2..3.27...6...56....8.76.51.9.\n",
      "\n",
      "1..92....524.1...........7..5...81.2.........4.27...9..6...........3.945....71..6\n",
      "\n",
      ".43.8.25.6.............1.949....4.7....6.8....1.2....382.5.............5.34.9.71.\n",
      "\n",
      "48...69.2..2..8..19..37..6.84..1.2....37.41....1.6..49.2..85..77..9..6..6.92...18\n",
      "\n",
      "...9....2.5.1234...3....16.9.8.......7.....9.......2.5.91....5...7439.2.4....7...\n",
      "\n",
      "..19....39..7..16..3...5..7.5......9..43.26..2......7.6..1...3..42..7..65....68..\n",
      "\n",
      "...1254....84.....42.8......3.....95.6.9.2.1.51.....6......3.49.....72....1298...\n",
      "\n",
      ".6234.75.1....56..57.....4.....948..4.......6..583.....3.....91..64....7.59.8326.\n",
      "\n",
      "3..........5..9...2..5.4....2....7..16.....587.431.6.....89.1......67.8......5437\n",
      "\n",
      "63..........5....8..5674.......2......34.1.2.......345.....7..4.8.3..9.29471...8.\n",
      "\n",
      "....2..4...8.35.......7.6.2.31.4697.2...........5.12.3.49...73........1.8....4...\n",
      "\n",
      "361.259...8.96..1.4......57..8...471...6.3...259...8..74......5.2..18.6...547.329\n",
      "\n",
      ".5.8.7.2.6...1..9.7.254...6.7..2.3.15.4...9.81.3.8..7.9...762.5.6..9...3.8.1.3.4.\n",
      "\n",
      ".8...5........3457....7.8.9.6.4..9.3..7.1.5..4.8..7.2.9.1.2....8423........1...8.\n",
      "\n",
      "..35.29......4....1.6...3.59..251..8.7.4.8.3.8..763..13.8...1.4....2......51.48..\n",
      "\n",
      "...........98.51...519.742.29.4.1.65.........14.5.8.93.267.958...51.36...........\n",
      "\n",
      ".2..3..9....9.7...9..2.8..5..48.65..6.7...2.8..31.29..8..6.5..7...3.9....3..2..5.\n",
      "\n",
      "..5.....6.7...9.2....5..1.78.415.......8.3.......928.59.7..6....3.4...1.2.....6..\n",
      "\n",
      ".4.....5...19436....9...3..6...5...21.3...5.68...2...7..5...2....24367...3.....4.\n",
      "\n",
      "..4..........3...239.7...8.4....9..12.98.13.76..2....8.1...8.539...4..........8..\n",
      "\n",
      "36..2..89...361............8.3...6.24..6.3..76.7...1.8............418...97..3..14\n",
      "\n",
      "5..4...6...9...8..64..2.........1..82.8...5.17..5.........9..84..3...6...6...3..2\n",
      "\n",
      "..72564..4.......5.1..3..6....5.8.....8.6.2.....1.7....3..7..9.2.......4..63127..\n",
      "\n",
      "..........79.5.18.8.......7..73.68..45.7.8.96..35.27..7.......5.16.3.42..........\n",
      "\n",
      ".3.....8...9...5....75.92..7..1.5..8.2..9..3.9..4.2..1..42.71....2...8...7.....9.\n",
      "\n",
      "2..17.6.3.5....1.......6.79....4.7.....8.1.....9.5....31.4.......5....6.9.6.37..2\n",
      "\n",
      ".......8.8..7.1.4..4..2..3.374...9......3......5...321.1..6..5..5.8.2..6.8.......\n",
      "\n",
      ".......85...21...996..8.1..5..8...16.........89...6..7..9.7..523...54...48.......\n",
      "\n",
      "6.8.7.5.2.5.6.8.7...2...3..5...9...6.4.3.2.5.8...5...3..5...2...1.7.4.9.4.9.6.7.1\n",
      "\n",
      ".5..1..4.1.7...6.2...9.5...2.8.3.5.1.4..7..2.9.1.8.4.6...4.1...3.4...7.9.2..6..1.\n",
      "\n",
      ".53...79...97534..1.......2.9..8..1....9.7....8..3..7.5.......3..76412...61...94.\n",
      "\n",
      "..6.8.3...49.7.25....4.5...6..317..4..7...8..1..826..9...7.2....75.4.19...3.9.6..\n",
      "\n",
      "..5.8.7..7..2.4..532.....84.6.1.5.4...8...5...7.8.3.1.45.....916..5.8..7..3.1.6..\n",
      "\n",
      "...9..8..128..64...7.8...6.8..43...75.......96...79..8.9...4.1...36..284..1..7...\n",
      "\n",
      "....8....27.....54.95...81...98.64...2.4.3.6...69.51...17...62.46.....38....9....\n",
      "\n",
      "...6.2...4...5...1.85.1.62..382.671...........194.735..26.4.53.9...2...7...8.9...\n",
      "\n",
      "...9....2.5.1234...3....16.9.8.......7.....9.......2.5.91....5...7439.2.4....7...\n",
      "\n",
      "38..........4..785..9.2.3...6..9....8..3.2..9....4..7...1.7.5..495..6..........92\n",
      "\n",
      "...158.....2.6.8...3.....4..27.3.51...........46.8.79..5.....8...4.7.1.....325...\n",
      "\n",
      ".1.5..2..9....1.....2..8.3.5...3...7..8...5..6...8...4.4.1..7.....7....6..3..4.5.\n",
      "\n",
      ".8.....4....469...4.......7..59.46...7.6.8.3...85.21..9.......5...781....6.....1.\n",
      "\n",
      "9.42....7.1..........7.65.....8...9..2.9.4.6..4...2.....16.7..........3.3....57.2\n",
      "\n",
      "...7..8....6....31.4...2....24.7.....1..3..8.....6.29....8...7.86....5....2..6...\n",
      "\n",
      "..1..7.9.59..8...1.3.....8......58...5..6..2...41......8.....3.1...2..79.2.7..4..\n",
      "\n",
      ".....3.17.15..9..8.6.......1....7.....9...2.....5....4.......2.5..6..34.34.2.....\n",
      "\n",
      "3..2........1.7...7.6.3.5...7...9.8.9...2...4.1.8...5...9.4.3.1...7.2........8..6\n"
     ]
    }
   ],
   "source": [
    "file1 = open('Easy50.txt', 'r')\n",
    "Lines = file1.readlines()\n",
    "\n",
    "count = 0\n",
    "for line in Lines:\n",
    "    count = count+1\n",
    "    print(line)"
   ]
  },
  {
   "cell_type": "markdown",
   "metadata": {},
   "source": [
    "**References**\n",
    "1. https://en.wikipedia.org/wiki/Sudoku\n",
    "\n",
    "2. https://norvig.com/sudoku.html"
   ]
  }
 ],
 "metadata": {
  "interpreter": {
   "hash": "5c1863610df8831bbe662ad2819e84dc067b53a1025905e846614c3b775b21f5"
  },
  "kernelspec": {
   "display_name": "Python 3.8.3 ('base')",
   "language": "python",
   "name": "python3"
  },
  "language_info": {
   "codemirror_mode": {
    "name": "ipython",
    "version": 3
   },
   "file_extension": ".py",
   "mimetype": "text/x-python",
   "name": "python",
   "nbconvert_exporter": "python",
   "pygments_lexer": "ipython3",
   "version": "3.8.3"
  },
  "orig_nbformat": 4
 },
 "nbformat": 4,
 "nbformat_minor": 2
}
